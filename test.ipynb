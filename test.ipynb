{
 "cells": [
  {
   "cell_type": "markdown",
   "metadata": {},
   "source": [
    "# Test Benchmark"
   ]
  },
  {
   "cell_type": "markdown",
   "metadata": {},
   "source": [
    "## Buffer"
   ]
  },
  {
   "cell_type": "markdown",
   "metadata": {},
   "source": [
    "buffer store function (multi done scenario)"
   ]
  },
  {
   "cell_type": "code",
   "execution_count": null,
   "metadata": {},
   "outputs": [],
   "source": [
    "from replay_buffer import ReplayBuffer\n",
    "from agent import AgentSAC\n",
    "from attrdict import AttrDict\n",
    "from envs import ReachToyEnv\n",
    "import torch\n",
    "args = AttrDict(learning_rate=0.01, env_num=2, eval_gap=0, eval_steps_per_env=10, cwd='')\n",
    "agent = AgentSAC(10,4,2,max_env_step=5, goal_dim=2,gpu_id=-1, info_dim=4+4,args=args)\n",
    "env = ReachToyEnv(max_step=5, gpu_id=-1)\n",
    "buffer = ReplayBuffer(gpu_id=-1,\n",
    "                      max_len=10,\n",
    "                      state_dim=4,\n",
    "                      action_dim=2,\n",
    "                      goal_dim=2,\n",
    "                      reward_fn = env.compute_reward,\n",
    "                      info_dim=4+4) # add traj index"
   ]
  },
  {
   "cell_type": "code",
   "execution_count": null,
   "metadata": {},
   "outputs": [],
   "source": [
    "traj = agent.explore_env(env, target_steps_per_env=12, random_mode=True, buffer = buffer)"
   ]
  },
  {
   "cell_type": "code",
   "execution_count": null,
   "metadata": {},
   "outputs": [],
   "source": [
    "buffer.buf_state, buffer.buf_other[...,-1], buffer.buf_other[...,4+2:4+4]"
   ]
  },
  {
   "cell_type": "code",
   "execution_count": null,
   "metadata": {},
   "outputs": [],
   "source": [
    "buffer.update_now_len()\n",
    "rew, mask, act, s, ns, i= buffer.sample_batch(10, her_rate=1, indices=torch.arange(start=5,end=9))"
   ]
  },
  {
   "cell_type": "code",
   "execution_count": null,
   "metadata": {},
   "outputs": [],
   "source": [
    "s, rew"
   ]
  },
  {
   "cell_type": "markdown",
   "metadata": {},
   "source": [
    "HER buffer"
   ]
  },
  {
   "cell_type": "code",
   "execution_count": null,
   "metadata": {},
   "outputs": [],
   "source": [
    "buffer.buf_other[:20][..., :2]"
   ]
  }
 ],
 "metadata": {
  "interpreter": {
   "hash": "af0e7ce4432516db823bae3ea4c0d97f35fa9627b05003f785a71e13fe4c3fa1"
  },
  "kernelspec": {
   "display_name": "Python 3.7.12 ('rlgpu')",
   "language": "python",
   "name": "python3"
  },
  "language_info": {
   "codemirror_mode": {
    "name": "ipython",
    "version": 3
   },
   "file_extension": ".py",
   "mimetype": "text/x-python",
   "name": "python",
   "nbconvert_exporter": "python",
   "pygments_lexer": "ipython3",
   "version": "3.7.12"
  },
  "orig_nbformat": 4
 },
 "nbformat": 4,
 "nbformat_minor": 2
}
