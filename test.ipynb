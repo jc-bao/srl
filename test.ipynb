{
 "cells": [
  {
   "cell_type": "markdown",
   "metadata": {},
   "source": [
    "# Test Benchmark"
   ]
  },
  {
   "cell_type": "markdown",
   "metadata": {},
   "source": [
    "## Buffer"
   ]
  },
  {
   "cell_type": "markdown",
   "metadata": {},
   "source": [
    "buffer store function (multi done scenario)"
   ]
  },
  {
   "cell_type": "code",
   "execution_count": 1,
   "metadata": {},
   "outputs": [
    {
     "name": "stderr",
     "output_type": "stream",
     "text": [
      "/home/reed/miniconda3/envs/rlgpu/lib/python3.7/site-packages/tqdm/auto.py:22: TqdmWarning: IProgress not found. Please update jupyter and ipywidgets. See https://ipywidgets.readthedocs.io/en/stable/user_install.html\n",
      "  from .autonotebook import tqdm as notebook_tqdm\n",
      "/home/reed/miniconda3/envs/rlgpu/lib/python3.7/site-packages/gym/spaces/box.py:84: UserWarning: \u001b[33mWARN: Box bound precision lowered by casting to float32\u001b[0m\n",
      "  logger.warn(f\"Box bound precision lowered by casting to {self.dtype}\")\n"
     ]
    }
   ],
   "source": [
    "from agent import AgentSAC\n",
    "from attrdict import AttrDict\n",
    "import torch\n",
    "import yaml\n",
    "from envs import toy\n",
    "\n",
    "with open(f'configs/debug.yaml', \"r\") as stream:\n",
    "  try:\n",
    "    cfg = AttrDict(yaml.safe_load(stream))\n",
    "  except yaml.YAMLError as exc:\n",
    "    print(exc)\n",
    "agent = AgentSAC(cfg)"
   ]
  },
  {
   "cell_type": "code",
   "execution_count": 2,
   "metadata": {},
   "outputs": [],
   "source": [
    "traj = agent.explore_vec_env()"
   ]
  },
  {
   "cell_type": "code",
   "execution_count": 3,
   "metadata": {},
   "outputs": [
    {
     "data": {
      "text/plain": [
       "tensor([[ 5.7474e-01, -7.3119e-01, -9.6110e-01,  5.4669e-01, -1.0000e+00,\n",
       "          9.9000e-01, -3.5703e-01,  6.3359e-01,  0.0000e+00,  1.0000e+00,\n",
       "          0.0000e+00,  0.0000e+00,  1.4013e-45,  5.0333e-01, -6.0447e-01],\n",
       "        [ 5.0333e-01, -6.0447e-01, -9.6110e-01,  5.4669e-01, -1.0000e+00,\n",
       "          9.9000e-01,  2.2899e-01,  5.6891e-01,  0.0000e+00,  2.0000e+00,\n",
       "          0.0000e+00,  0.0000e+00,  1.4013e-45,  5.4913e-01, -4.9069e-01],\n",
       "        [ 5.4913e-01, -4.9069e-01, -9.6110e-01,  5.4669e-01, -1.0000e+00,\n",
       "          9.9000e-01, -6.7779e-01,  9.4470e-01,  0.0000e+00,  3.0000e+00,\n",
       "          0.0000e+00,  0.0000e+00,  1.4013e-45,  4.1357e-01, -3.0175e-01],\n",
       "        [ 4.1357e-01, -3.0175e-01, -9.6110e-01,  5.4669e-01, -1.0000e+00,\n",
       "          9.9000e-01,  2.5347e-01,  5.8554e-01,  0.0000e+00,  4.0000e+00,\n",
       "          0.0000e+00,  0.0000e+00,  1.4013e-45,  4.6426e-01, -1.8464e-01],\n",
       "        [ 4.6426e-01, -1.8464e-01, -9.6110e-01,  5.4669e-01, -1.0000e+00,\n",
       "          9.9000e-01, -8.5612e-01,  2.8611e-01,  0.0000e+00,  5.0000e+00,\n",
       "          0.0000e+00,  0.0000e+00,  1.4013e-45,  2.9304e-01, -1.2742e-01],\n",
       "        [ 2.9304e-01, -1.2742e-01, -9.6110e-01,  5.4669e-01, -1.0000e+00,\n",
       "          9.9000e-01,  7.4533e-01, -4.2139e-01,  0.0000e+00,  6.0000e+00,\n",
       "          0.0000e+00,  0.0000e+00,  1.4013e-45,  4.4211e-01, -2.1170e-01],\n",
       "        [ 4.4211e-01, -2.1170e-01, -9.6110e-01,  5.4669e-01, -1.0000e+00,\n",
       "          9.9000e-01, -5.1914e-01,  5.4471e-01,  0.0000e+00,  7.0000e+00,\n",
       "          0.0000e+00,  0.0000e+00,  1.4013e-45,  3.3828e-01, -1.0275e-01],\n",
       "        [ 3.3828e-01, -1.0275e-01, -9.6110e-01,  5.4669e-01, -1.0000e+00,\n",
       "          9.9000e-01,  2.4255e-01, -9.5919e-01,  0.0000e+00,  8.0000e+00,\n",
       "          0.0000e+00,  0.0000e+00,  1.4013e-45,  3.8679e-01, -2.9459e-01],\n",
       "        [ 3.8679e-01, -2.9459e-01, -9.6110e-01,  5.4669e-01, -1.0000e+00,\n",
       "          9.9000e-01,  7.6357e-01, -7.2090e-01,  0.0000e+00,  9.0000e+00,\n",
       "          0.0000e+00,  0.0000e+00,  1.4013e-45,  5.3950e-01, -4.3877e-01],\n",
       "        [ 5.3950e-01, -4.3877e-01, -9.6110e-01,  5.4669e-01, -1.0000e+00,\n",
       "          9.9000e-01, -6.7328e-01, -6.9805e-01,  0.0000e+00,  1.0000e+01,\n",
       "          0.0000e+00,  0.0000e+00,  1.4013e-45,  4.0485e-01, -5.7838e-01],\n",
       "        [ 4.0485e-01, -5.7838e-01, -9.6110e-01,  5.4669e-01, -1.0000e+00,\n",
       "          9.9000e-01,  5.5150e-01, -7.1932e-02,  0.0000e+00,  1.1000e+01,\n",
       "          0.0000e+00,  0.0000e+00,  1.4013e-45,  5.1515e-01, -5.9277e-01],\n",
       "        [ 5.1515e-01, -5.9277e-01, -9.6110e-01,  5.4669e-01, -1.0000e+00,\n",
       "          9.9000e-01, -5.8127e-01,  7.5143e-01,  0.0000e+00,  1.2000e+01,\n",
       "          0.0000e+00,  0.0000e+00,  1.4013e-45,  3.9889e-01, -4.4248e-01]],\n",
       "       device='cuda:0')"
      ]
     },
     "execution_count": 3,
     "metadata": {},
     "output_type": "execute_result"
    }
   ],
   "source": [
    "agent.buffer.data[:12]"
   ]
  },
  {
   "cell_type": "code",
   "execution_count": 4,
   "metadata": {},
   "outputs": [],
   "source": [
    "trans = agent.buffer.sample_batch(10, her_rate=1, indices=torch.arange(20, device='cuda:0'))"
   ]
  },
  {
   "cell_type": "code",
   "execution_count": 5,
   "metadata": {},
   "outputs": [
    {
     "data": {
      "text/plain": [
       "(tensor([[ 0.5747, -0.7312],\n",
       "         [ 0.5033, -0.6045],\n",
       "         [ 0.5491, -0.4907],\n",
       "         [ 0.4136, -0.3017],\n",
       "         [ 0.4643, -0.1846],\n",
       "         [ 0.2930, -0.1274],\n",
       "         [ 0.4421, -0.2117],\n",
       "         [ 0.3383, -0.1028],\n",
       "         [ 0.3868, -0.2946],\n",
       "         [ 0.5395, -0.4388],\n",
       "         [ 0.4048, -0.5784],\n",
       "         [ 0.5151, -0.5928],\n",
       "         [ 0.3989, -0.4425],\n",
       "         [ 0.5107, -0.2869],\n",
       "         [ 0.6485, -0.1337],\n",
       "         [ 0.6347, -0.1763],\n",
       "         [ 0.7884,  0.0058],\n",
       "         [ 0.6210,  0.0436],\n",
       "         [ 0.7628,  0.1938]], device='cuda:0'),\n",
       " tensor([[ 0.5033, -0.6045],\n",
       "         [ 0.5491, -0.4907],\n",
       "         [ 0.4136, -0.3017],\n",
       "         [ 0.4643, -0.1846],\n",
       "         [ 0.2930, -0.1274],\n",
       "         [ 0.4421, -0.2117],\n",
       "         [ 0.3383, -0.1028],\n",
       "         [ 0.3868, -0.2946],\n",
       "         [ 0.5395, -0.4388],\n",
       "         [ 0.4048, -0.5784],\n",
       "         [ 0.5151, -0.5928],\n",
       "         [ 0.3989, -0.4425],\n",
       "         [ 0.5107, -0.2869],\n",
       "         [ 0.6485, -0.1337],\n",
       "         [ 0.6347, -0.1763],\n",
       "         [ 0.7884,  0.0058],\n",
       "         [ 0.6210,  0.0436],\n",
       "         [ 0.7628,  0.1938],\n",
       "         [ 0.6328,  0.0026]], device='cuda:0'))"
      ]
     },
     "execution_count": 5,
     "metadata": {},
     "output_type": "execute_result"
    }
   ],
   "source": [
    "obs_dict = agent.EP.obs_parser(trans.state[:20])\n",
    "obs_dict.ag, obs_dict.g"
   ]
  },
  {
   "cell_type": "markdown",
   "metadata": {},
   "source": [
    "HER buffer"
   ]
  },
  {
   "cell_type": "code",
   "execution_count": null,
   "metadata": {},
   "outputs": [],
   "source": [
    "buffer.buf_other[:20][..., :2]"
   ]
  },
  {
   "cell_type": "markdown",
   "metadata": {},
   "source": [
    "# Wandb"
   ]
  },
  {
   "cell_type": "code",
   "execution_count": null,
   "metadata": {},
   "outputs": [],
   "source": [
    "import wandb\n",
    "wandb.init(project=\"debug\")"
   ]
  }
 ],
 "metadata": {
  "interpreter": {
   "hash": "af0e7ce4432516db823bae3ea4c0d97f35fa9627b05003f785a71e13fe4c3fa1"
  },
  "kernelspec": {
   "display_name": "Python 3.7.12 ('rlgpu')",
   "language": "python",
   "name": "python3"
  },
  "language_info": {
   "codemirror_mode": {
    "name": "ipython",
    "version": 3
   },
   "file_extension": ".py",
   "mimetype": "text/x-python",
   "name": "python",
   "nbconvert_exporter": "python",
   "pygments_lexer": "ipython3",
   "version": "3.7.12"
  },
  "orig_nbformat": 4
 },
 "nbformat": 4,
 "nbformat_minor": 2
}
