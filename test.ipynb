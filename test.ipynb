{
 "cells": [
  {
   "cell_type": "markdown",
   "metadata": {},
   "source": [
    "# Test Benchmark"
   ]
  },
  {
   "cell_type": "markdown",
   "metadata": {},
   "source": [
    "## Buffer"
   ]
  },
  {
   "cell_type": "markdown",
   "metadata": {},
   "source": [
    "buffer store function (multi done scenario)"
   ]
  },
  {
   "cell_type": "code",
   "execution_count": null,
   "metadata": {},
   "outputs": [],
   "source": [
    "from replay_buffer import ReplayBuffer\n",
    "from agent import AgentSAC\n",
    "from attrdict import AttrDict\n",
    "from envs import ReachToyEnv\n",
    "buffer = ReplayBuffer(gpu_id=0,\n",
    "                      max_len=50,\n",
    "                      state_dim=4,\n",
    "                      action_dim=2,)\n",
    "args = AttrDict(learning_rate=0.01, env_num=2, eval_gap=0)\n",
    "agent = AgentSAC(10,4,2,gpu_id=0,args=args)\n",
    "env = ReachToyEnv(max_step=5)"
   ]
  },
  {
   "cell_type": "code",
   "execution_count": null,
   "metadata": {},
   "outputs": [],
   "source": [
    "agent.explore_env(env, target_step=32, eval_mode=True)"
   ]
  },
  {
   "cell_type": "code",
   "execution_count": null,
   "metadata": {},
   "outputs": [],
   "source": [
    "buffer.buf_state"
   ]
  }
 ],
 "metadata": {
  "interpreter": {
   "hash": "af0e7ce4432516db823bae3ea4c0d97f35fa9627b05003f785a71e13fe4c3fa1"
  },
  "kernelspec": {
   "display_name": "Python 3.7.12 ('rlgpu')",
   "language": "python",
   "name": "python3"
  },
  "language_info": {
   "codemirror_mode": {
    "name": "ipython",
    "version": 3
   },
   "file_extension": ".py",
   "mimetype": "text/x-python",
   "name": "python",
   "nbconvert_exporter": "python",
   "pygments_lexer": "ipython3",
   "version": "3.9.7"
  },
  "orig_nbformat": 4
 },
 "nbformat": 4,
 "nbformat_minor": 2
}
