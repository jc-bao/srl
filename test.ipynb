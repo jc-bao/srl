{
 "cells": [
  {
   "cell_type": "markdown",
   "metadata": {},
   "source": [
    "# Test Benchmark"
   ]
  },
  {
   "cell_type": "markdown",
   "metadata": {},
   "source": [
    "## Buffer"
   ]
  },
  {
   "cell_type": "markdown",
   "metadata": {},
   "source": [
    "buffer store function (multi done scenario)"
   ]
  },
  {
   "cell_type": "code",
   "execution_count": 1,
   "metadata": {},
   "outputs": [
    {
     "name": "stderr",
     "output_type": "stream",
     "text": [
      "/home/reed/miniconda3/envs/rlgpu/lib/python3.7/site-packages/tqdm/auto.py:22: TqdmWarning: IProgress not found. Please update jupyter and ipywidgets. See https://ipywidgets.readthedocs.io/en/stable/user_install.html\n",
      "  from .autonotebook import tqdm as notebook_tqdm\n",
      "/home/reed/miniconda3/envs/rlgpu/lib/python3.7/site-packages/matplotlib_inline/config.py:66: DeprecationWarning: InlineBackend._figure_formats_changed is deprecated in traitlets 4.1: use @observe and @unobserve instead.\n",
      "  def _figure_formats_changed(self, name, old, new):\n",
      "/home/reed/miniconda3/envs/rlgpu/lib/python3.7/site-packages/gym/spaces/box.py:84: UserWarning: \u001b[33mWARN: Box bound precision lowered by casting to float32\u001b[0m\n",
      "  logger.warn(f\"Box bound precision lowered by casting to {self.dtype}\")\n"
     ]
    }
   ],
   "source": [
    "from replay_buffer import ReplayBuffer\n",
    "from agent import AgentSAC\n",
    "from attrdict import AttrDict\n",
    "from envs import ReachToyEnv\n",
    "buffer = ReplayBuffer(gpu_id=0,\n",
    "                      max_len=50,\n",
    "                      state_dim=4,\n",
    "                      action_dim=2,)\n",
    "args = AttrDict(learning_rate=0.01, env_num=2)\n",
    "agent = AgentSAC(10,4,2,gpu_id=0,args=args)\n",
    "env = ReachToyEnv(max_step=5)"
   ]
  },
  {
   "cell_type": "code",
   "execution_count": 7,
   "metadata": {},
   "outputs": [
    {
     "data": {
      "text/plain": [
       "(60, -1.0)"
      ]
     },
     "execution_count": 7,
     "metadata": {},
     "output_type": "execute_result"
    }
   ],
   "source": [
    "trajectory = agent.eval_vec_env(env, target_step=32)\n",
    "buffer.update_buffer((trajectory,))"
   ]
  },
  {
   "cell_type": "code",
   "execution_count": 8,
   "metadata": {},
   "outputs": [
    {
     "data": {
      "text/plain": [
       "tensor([[-0.2905,  0.5433,  0.5947, -0.9754],\n",
       "        [-0.0905,  0.7433,  0.5947, -0.9754],\n",
       "        [ 0.1095,  0.9433,  0.5947, -0.9754],\n",
       "        [ 0.3095,  1.0000,  0.5947, -0.9754],\n",
       "        [ 0.5095,  1.0000,  0.5947, -0.9754],\n",
       "        [ 0.4522, -0.6933, -0.2191,  0.1825],\n",
       "        [ 0.6522, -0.4933, -0.2191,  0.1825],\n",
       "        [ 0.8522, -0.2933, -0.2191,  0.1825],\n",
       "        [ 1.0000, -0.0933, -0.2191,  0.1825],\n",
       "        [ 1.0000,  0.1067, -0.2191,  0.1825],\n",
       "        [ 0.3920,  0.2245, -0.8864, -0.5499],\n",
       "        [ 0.5920,  0.4245, -0.8864, -0.5499],\n",
       "        [ 0.7920,  0.6245, -0.8864, -0.5499],\n",
       "        [ 0.9920,  0.8245, -0.8864, -0.5499],\n",
       "        [ 1.0000,  1.0000, -0.8864, -0.5499],\n",
       "        [ 0.2913,  0.7986,  0.8215, -0.3447],\n",
       "        [ 0.4913,  0.9986,  0.8215, -0.3447],\n",
       "        [ 0.6913,  1.0000,  0.8215, -0.3447],\n",
       "        [ 0.8913,  1.0000,  0.8215, -0.3447],\n",
       "        [ 1.0000,  1.0000,  0.8215, -0.3447],\n",
       "        [ 0.5746,  0.7454, -0.9120,  0.8650],\n",
       "        [ 0.7746,  0.9454, -0.9120,  0.8650],\n",
       "        [ 0.9746,  1.0000, -0.9120,  0.8650],\n",
       "        [ 1.0000,  1.0000, -0.9120,  0.8650],\n",
       "        [ 1.0000,  1.0000, -0.9120,  0.8650],\n",
       "        [-0.1208,  0.1926,  0.8116, -0.3166],\n",
       "        [ 0.0792,  0.3926,  0.8116, -0.3166],\n",
       "        [ 0.2792,  0.5926,  0.8116, -0.3166],\n",
       "        [ 0.4792,  0.7926,  0.8116, -0.3166],\n",
       "        [ 0.6792,  0.9926,  0.8116, -0.3166],\n",
       "        [-0.3436,  0.0154,  0.3910, -0.9634],\n",
       "        [-0.1436,  0.2154,  0.3910, -0.9634],\n",
       "        [ 0.0564,  0.4154,  0.3910, -0.9634],\n",
       "        [ 0.2564,  0.6154,  0.3910, -0.9634],\n",
       "        [ 0.4564,  0.8154,  0.3910, -0.9634],\n",
       "        [-0.6515, -0.3212,  0.1872, -0.2333],\n",
       "        [-0.4515, -0.1212,  0.1872, -0.2333],\n",
       "        [-0.2515,  0.0788,  0.1872, -0.2333],\n",
       "        [-0.0515,  0.2788,  0.1872, -0.2333],\n",
       "        [ 0.1485,  0.4788,  0.1872, -0.2333],\n",
       "        [ 0.4373,  0.8875,  0.3204,  0.6918],\n",
       "        [ 0.6373,  1.0000,  0.3204,  0.6918],\n",
       "        [ 0.8373,  1.0000,  0.3204,  0.6918],\n",
       "        [ 1.0000,  1.0000,  0.3204,  0.6918],\n",
       "        [ 1.0000,  1.0000,  0.3204,  0.6918],\n",
       "        [-0.8881, -0.4175,  0.1908, -0.8702],\n",
       "        [-0.6881, -0.2175,  0.1908, -0.8702],\n",
       "        [-0.4881, -0.0175,  0.1908, -0.8702],\n",
       "        [-0.2881,  0.1825,  0.1908, -0.8702],\n",
       "        [-0.0881,  0.3825,  0.1908, -0.8702]], device='cuda:0')"
      ]
     },
     "execution_count": 8,
     "metadata": {},
     "output_type": "execute_result"
    }
   ],
   "source": [
    "buffer.buf_state"
   ]
  }
 ],
 "metadata": {
  "interpreter": {
   "hash": "af0e7ce4432516db823bae3ea4c0d97f35fa9627b05003f785a71e13fe4c3fa1"
  },
  "kernelspec": {
   "display_name": "Python 3.7.12 ('rlgpu')",
   "language": "python",
   "name": "python3"
  },
  "language_info": {
   "codemirror_mode": {
    "name": "ipython",
    "version": 3
   },
   "file_extension": ".py",
   "mimetype": "text/x-python",
   "name": "python",
   "nbconvert_exporter": "python",
   "pygments_lexer": "ipython3",
   "version": "3.7.12"
  },
  "orig_nbformat": 4
 },
 "nbformat": 4,
 "nbformat_minor": 2
}
