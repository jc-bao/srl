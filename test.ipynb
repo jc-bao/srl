{
 "cells": [
  {
   "cell_type": "markdown",
   "metadata": {},
   "source": [
    "# Test Benchmark"
   ]
  },
  {
   "cell_type": "markdown",
   "metadata": {},
   "source": [
    "## Buffer"
   ]
  },
  {
   "cell_type": "markdown",
   "metadata": {},
   "source": [
    "buffer store function (multi done scenario)"
   ]
  },
  {
   "cell_type": "code",
   "execution_count": 1,
   "metadata": {},
   "outputs": [
    {
     "name": "stderr",
     "output_type": "stream",
     "text": [
      "/home/reed/miniconda3/envs/rlgpu/lib/python3.7/site-packages/tqdm/auto.py:22: TqdmWarning: IProgress not found. Please update jupyter and ipywidgets. See https://ipywidgets.readthedocs.io/en/stable/user_install.html\n",
      "  from .autonotebook import tqdm as notebook_tqdm\n",
      "/home/reed/miniconda3/envs/rlgpu/lib/python3.7/site-packages/gym/spaces/box.py:84: UserWarning: \u001b[33mWARN: Box bound precision lowered by casting to float32\u001b[0m\n",
      "  logger.warn(f\"Box bound precision lowered by casting to {self.dtype}\")\n"
     ]
    }
   ],
   "source": [
    "from agent import AgentSAC\n",
    "from attrdict import AttrDict\n",
    "import torch\n",
    "import yaml\n",
    "from envs import toy\n",
    "\n",
    "with open(f'configs/debug.yaml', \"r\") as stream:\n",
    "  try:\n",
    "    cfg = AttrDict(yaml.safe_load(stream))\n",
    "  except yaml.YAMLError as exc:\n",
    "    print(exc)\n",
    "agent = AgentSAC(cfg)"
   ]
  },
  {
   "cell_type": "code",
   "execution_count": 2,
   "metadata": {},
   "outputs": [],
   "source": [
    "traj = agent.explore_vec_env()"
   ]
  },
  {
   "cell_type": "code",
   "execution_count": null,
   "metadata": {},
   "outputs": [],
   "source": [
    "agent.buffer.data_parser(agent.buffer.data[:10], 'info.tleft')"
   ]
  },
  {
   "cell_type": "code",
   "execution_count": 3,
   "metadata": {},
   "outputs": [],
   "source": [
    "trans = agent.buffer.sample_batch(10, her_rate=0.5, indices=torch.arange(10, device='cuda:0'))"
   ]
  },
  {
   "cell_type": "code",
   "execution_count": 5,
   "metadata": {},
   "outputs": [
    {
     "data": {
      "text/plain": [
       "(tensor([[ 0.5747, -0.7312],\n",
       "         [ 0.5033, -0.6045],\n",
       "         [ 0.5491, -0.4907],\n",
       "         [ 0.4136, -0.3017],\n",
       "         [ 0.4643, -0.1846],\n",
       "         [ 0.2930, -0.1274],\n",
       "         [ 0.4421, -0.2117],\n",
       "         [ 0.3383, -0.1028],\n",
       "         [ 0.3868, -0.2946]], device='cuda:0'),\n",
       " tensor([[ 0.3383, -0.1028],\n",
       "         [ 0.2930, -0.1274],\n",
       "         [ 0.4136, -0.3017],\n",
       "         [ 0.4643, -0.1846],\n",
       "         [ 0.5395, -0.4388],\n",
       "         [-0.9611,  0.5467],\n",
       "         [-0.9611,  0.5467],\n",
       "         [-0.9611,  0.5467],\n",
       "         [-0.9611,  0.5467]], device='cuda:0'),\n",
       " tensor([-1., -1., -0., -0., -1., -1., -1., -1., -1.], device='cuda:0'))"
      ]
     },
     "execution_count": 5,
     "metadata": {},
     "output_type": "execute_result"
    }
   ],
   "source": [
    "obs_dict = agent.EP.obs_parser(trans.state[:10])\n",
    "obs_dict.ag, obs_dict.g, trans.rew"
   ]
  },
  {
   "cell_type": "code",
   "execution_count": null,
   "metadata": {},
   "outputs": [],
   "source": [
    "info_dict = agent.EP.info_parser(trans.info[:20])\n",
    "info_dict.step"
   ]
  },
  {
   "cell_type": "markdown",
   "metadata": {},
   "source": [
    "HER buffer"
   ]
  },
  {
   "cell_type": "code",
   "execution_count": null,
   "metadata": {},
   "outputs": [],
   "source": [
    "buffer.buf_other[:20][..., :2]"
   ]
  },
  {
   "cell_type": "markdown",
   "metadata": {},
   "source": [
    "# Wandb"
   ]
  },
  {
   "cell_type": "code",
   "execution_count": null,
   "metadata": {},
   "outputs": [],
   "source": [
    "import wandb\n",
    "wandb.init(project=\"debug\")"
   ]
  }
 ],
 "metadata": {
  "interpreter": {
   "hash": "af0e7ce4432516db823bae3ea4c0d97f35fa9627b05003f785a71e13fe4c3fa1"
  },
  "kernelspec": {
   "display_name": "Python 3.7.12 ('rlgpu')",
   "language": "python",
   "name": "python3"
  },
  "language_info": {
   "codemirror_mode": {
    "name": "ipython",
    "version": 3
   },
   "file_extension": ".py",
   "mimetype": "text/x-python",
   "name": "python",
   "nbconvert_exporter": "python",
   "pygments_lexer": "ipython3",
   "version": "3.7.12"
  },
  "orig_nbformat": 4
 },
 "nbformat": 4,
 "nbformat_minor": 2
}
