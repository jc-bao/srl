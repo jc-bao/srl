{
 "cells": [
  {
   "cell_type": "markdown",
   "metadata": {},
   "source": [
    "# Test Benchmark"
   ]
  },
  {
   "cell_type": "markdown",
   "metadata": {},
   "source": [
    "## Buffer"
   ]
  },
  {
   "cell_type": "markdown",
   "metadata": {},
   "source": [
    "buffer store function (multi done scenario)"
   ]
  },
  {
   "cell_type": "code",
   "execution_count": 1,
   "metadata": {},
   "outputs": [
    {
     "name": "stderr",
     "output_type": "stream",
     "text": [
      "/home/reed/miniconda3/envs/rlgpu/lib/python3.7/site-packages/tqdm/auto.py:22: TqdmWarning: IProgress not found. Please update jupyter and ipywidgets. See https://ipywidgets.readthedocs.io/en/stable/user_install.html\n",
      "  from .autonotebook import tqdm as notebook_tqdm\n",
      "/home/reed/miniconda3/envs/rlgpu/lib/python3.7/site-packages/matplotlib_inline/config.py:66: DeprecationWarning: InlineBackend._figure_formats_changed is deprecated in traitlets 4.1: use @observe and @unobserve instead.\n",
      "  def _figure_formats_changed(self, name, old, new):\n",
      "/home/reed/miniconda3/envs/rlgpu/lib/python3.7/site-packages/gym/spaces/box.py:84: UserWarning: \u001b[33mWARN: Box bound precision lowered by casting to float32\u001b[0m\n",
      "  logger.warn(f\"Box bound precision lowered by casting to {self.dtype}\")\n"
     ]
    }
   ],
   "source": [
    "from replay_buffer import ReplayBuffer\n",
    "from agent import AgentSAC\n",
    "from attrdict import AttrDict\n",
    "from envs import ReachToyEnv\n",
    "import torch\n",
    "args = AttrDict(learning_rate=0.01, env_num=2, eval_gap=0, eval_steps_per_env=10, cwd='')\n",
    "agent = AgentSAC(10,4,2,max_env_step=5, goal_dim=2,gpu_id=-1, info_dim=4+4,args=args)\n",
    "env = ReachToyEnv(max_step=5, gpu_id=-1)\n",
    "buffer = ReplayBuffer(gpu_id=-1,\n",
    "                      max_len=10,\n",
    "                      state_dim=4,\n",
    "                      action_dim=2,\n",
    "                      goal_dim=2,\n",
    "                      reward_fn = env.compute_reward,\n",
    "                      info_dim=4+4) # add traj index"
   ]
  },
  {
   "cell_type": "code",
   "execution_count": 2,
   "metadata": {},
   "outputs": [],
   "source": [
    "traj = agent.explore_env(env, target_steps_per_env=6, random_mode=True, buffer = buffer)"
   ]
  },
  {
   "cell_type": "code",
   "execution_count": 3,
   "metadata": {},
   "outputs": [
    {
     "data": {
      "text/plain": [
       "(tensor([[-0.5454,  0.5129,  0.4291, -0.8733],\n",
       "         [-0.6686,  0.4724,  0.4291, -0.8733],\n",
       "         [-0.8177,  0.5388,  0.4291, -0.8733],\n",
       "         [-0.6315,  0.7388,  0.4291, -0.8733],\n",
       "         [-0.8315,  0.9388,  0.4291, -0.8733],\n",
       "         [ 0.4646,  0.5766,  0.1615, -0.1874],\n",
       "         [ 0.4359,  0.6360,  0.1615, -0.1874],\n",
       "         [ 0.4410,  0.4360,  0.1615, -0.1874],\n",
       "         [ 0.4089,  0.3468,  0.1615, -0.1874],\n",
       "         [ 0.6089,  0.4523,  0.1615, -0.1874]]),\n",
       " tensor([4., 3., 2., 1., 0., 4., 3., 2., 1., 0.]),\n",
       " tensor([[-0.6686,  0.4724],\n",
       "         [-0.8177,  0.5388],\n",
       "         [-0.6315,  0.7388],\n",
       "         [-0.8315,  0.9388],\n",
       "         [-1.0000,  0.7559],\n",
       "         [ 0.4359,  0.6360],\n",
       "         [ 0.4410,  0.4360],\n",
       "         [ 0.4089,  0.3468],\n",
       "         [ 0.6089,  0.4523],\n",
       "         [ 0.7106,  0.6523]]))"
      ]
     },
     "execution_count": 3,
     "metadata": {},
     "output_type": "execute_result"
    }
   ],
   "source": [
    "buffer.buf_state, buffer.buf_other[...,-1], buffer.buf_other[...,4+2:4+4]"
   ]
  },
  {
   "cell_type": "code",
   "execution_count": 4,
   "metadata": {},
   "outputs": [],
   "source": [
    "buffer.update_now_len()\n",
    "rew, mask, act, s, ns, i= buffer.sample_batch(10, her_rate=1, indices=torch.arange(start=0,end=5))"
   ]
  },
  {
   "cell_type": "code",
   "execution_count": 6,
   "metadata": {},
   "outputs": [
    {
     "data": {
      "text/plain": [
       "(tensor([[-0.5454,  0.5129, -0.6686,  0.4724],\n",
       "         [-0.6686,  0.4724, -0.8177,  0.5388],\n",
       "         [-0.8177,  0.5388, -0.6315,  0.7388],\n",
       "         [-0.6315,  0.7388, -0.8315,  0.9388]]),\n",
       " tensor([[-0.],\n",
       "         [-0.],\n",
       "         [-0.],\n",
       "         [-0.]]),\n",
       " tensor([[-0.6686,  0.4724, -0.6686,  0.4724],\n",
       "         [-0.8177,  0.5388, -0.8177,  0.5388],\n",
       "         [-0.6315,  0.7388, -0.6315,  0.7388],\n",
       "         [-0.8315,  0.9388, -0.8315,  0.9388]]))"
      ]
     },
     "execution_count": 6,
     "metadata": {},
     "output_type": "execute_result"
    }
   ],
   "source": [
    "s, rew, ns"
   ]
  },
  {
   "cell_type": "markdown",
   "metadata": {},
   "source": [
    "HER buffer"
   ]
  },
  {
   "cell_type": "code",
   "execution_count": null,
   "metadata": {},
   "outputs": [],
   "source": [
    "buffer.buf_other[:20][..., :2]"
   ]
  }
 ],
 "metadata": {
  "interpreter": {
   "hash": "af0e7ce4432516db823bae3ea4c0d97f35fa9627b05003f785a71e13fe4c3fa1"
  },
  "kernelspec": {
   "display_name": "Python 3.7.12 ('rlgpu')",
   "language": "python",
   "name": "python3"
  },
  "language_info": {
   "codemirror_mode": {
    "name": "ipython",
    "version": 3
   },
   "file_extension": ".py",
   "mimetype": "text/x-python",
   "name": "python",
   "nbconvert_exporter": "python",
   "pygments_lexer": "ipython3",
   "version": "3.7.12"
  },
  "orig_nbformat": 4
 },
 "nbformat": 4,
 "nbformat_minor": 2
}
