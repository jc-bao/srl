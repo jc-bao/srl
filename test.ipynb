{
 "cells": [
  {
   "cell_type": "markdown",
   "metadata": {},
   "source": [
    "# Test Benchmark"
   ]
  },
  {
   "cell_type": "markdown",
   "metadata": {},
   "source": [
    "## Buffer"
   ]
  },
  {
   "cell_type": "markdown",
   "metadata": {},
   "source": [
    "buffer store function (multi done scenario)"
   ]
  },
  {
   "cell_type": "code",
   "execution_count": null,
   "metadata": {},
   "outputs": [],
   "source": [
    "from agent import AgentSAC\n",
    "from attrdict import AttrDict\n",
    "import torch\n",
    "import yaml\n",
    "from envs import toy\n",
    "\n",
    "with open(f'configs/debug.yaml', \"r\") as stream:\n",
    "  try:\n",
    "    cfg = AttrDict(yaml.safe_load(stream))\n",
    "  except yaml.YAMLError as exc:\n",
    "    print(exc)\n",
    "agent = AgentSAC(cfg)"
   ]
  },
  {
   "cell_type": "code",
   "execution_count": null,
   "metadata": {},
   "outputs": [],
   "source": [
    "traj = agent.explore_vec_env()"
   ]
  },
  {
   "cell_type": "code",
   "execution_count": null,
   "metadata": {},
   "outputs": [],
   "source": [
    "agent.buffer.data_parser(agent.buffer.data[8:12], 'info.ag')"
   ]
  },
  {
   "cell_type": "code",
   "execution_count": null,
   "metadata": {},
   "outputs": [],
   "source": [
    "trans = agent.buffer.sample_batch(10, her_rate=1, indices=torch.arange(11, device='cuda:0'))"
   ]
  },
  {
   "cell_type": "code",
   "execution_count": null,
   "metadata": {},
   "outputs": [],
   "source": [
    "obs_dict = agent.EP.obs_parser(trans.state[:10])\n",
    "info_dict = agent.EP.info_parser(trans.info[:10])\n",
    "obs_dict.ag, obs_dict.g, info_dict.step, trans.rew"
   ]
  },
  {
   "cell_type": "code",
   "execution_count": null,
   "metadata": {},
   "outputs": [],
   "source": [
    "info_dict = agent.EP.info_parser(trans.info[:20])\n",
    "info_dict.step"
   ]
  },
  {
   "cell_type": "markdown",
   "metadata": {},
   "source": [
    "HER buffer"
   ]
  },
  {
   "cell_type": "code",
   "execution_count": null,
   "metadata": {},
   "outputs": [],
   "source": []
  },
  {
   "cell_type": "markdown",
   "metadata": {},
   "source": [
    "# Wandb"
   ]
  },
  {
   "cell_type": "code",
   "execution_count": null,
   "metadata": {},
   "outputs": [],
   "source": [
    "import wandb\n",
    "wandb.init(project=\"debug\")"
   ]
  },
  {
   "cell_type": "markdown",
   "metadata": {},
   "source": [
    "# How to Check Block Distance"
   ]
  },
  {
   "cell_type": "code",
   "execution_count": null,
   "metadata": {},
   "outputs": [],
   "source": [
    "import torch\n",
    "num_envs=2\n",
    "num_goals=3\n",
    "min_dist = 1\n",
    "extra_goals = torch.tensor(\n",
    "  [\n",
    "    [\n",
    "      [[0,0],[0.5,0],[1.5,0]],\n",
    "      [[0,0],[0.5,0.5],[1.5,0.5]]\n",
    "    ],\n",
    "    [\n",
    "      [[0,0],[1.5,0],[0,1.5]],\n",
    "      [[3,0],[0,0],[5,0]]\n",
    "    ],\n",
    "  ]\n",
    ")\n",
    "goal_dist = torch.abs(extra_goals.unsqueeze(-3) - extra_goals.unsqueeze(-2))\n",
    "satisfied_idx = ((goal_dist[...,0] > min_dist) | \\\n",
    "  (goal_dist[..., 1] > min_dist)) | torch.eye(num_goals).bool()\n",
    "satisfied_idx = satisfied_idx.all(dim=-1).all(dim=-1)\n",
    "extra_goals[satisfied_idx].shape"
   ]
  },
  {
   "cell_type": "code",
   "execution_count": null,
   "metadata": {},
   "outputs": [],
   "source": [
    "p=0.2\n",
    "n=3\n",
    "import math\n",
    "import numpy as np\n",
    "np.cumsum([math.factorial(n)/(math.factorial(n-m)*math.factorial(m))*(1-p)**m*p**(n-m) for m in range(n+1)])"
   ]
  },
  {
   "cell_type": "markdown",
   "metadata": {},
   "source": [
    "# Rotate Experience"
   ]
  },
  {
   "cell_type": "code",
   "execution_count": null,
   "metadata": {},
   "outputs": [],
   "source": [
    "import torch\n",
    "\n",
    "grip_pos = torch.tensor([-1,-2,1,-2,2,1])\n",
    "hand_vel = torch.tensor([0.1,0.1,-0.1,-0.1,-0.1,0.1])\n",
    "finger_width = torch.tensor([0.01,0.02])\n",
    "block_state = torch.tensor([0]*20)\n",
    "block_pos = torch.tensor([-10,-20,10,10,20,-10])\n",
    "goal = torch.tensor([1,2,3,4,5,6])\n",
    "\n",
    "# obs = torch.cat((grip_pos, hand_vel, finger_width, block_state, block_pos, goal))\n",
    "\n",
    "# pos_rot_mat = torch.tensor([\n",
    "#   [-1,0,0],\n",
    "#   [0,-1,0],\n",
    "#   [0,0,1]\n",
    "# ])\n",
    "# quat_rot_mat = torch.tensor([\n",
    "#   [0,-1,0,0],\n",
    "#   [1,0,0,0],\n",
    "#   [0,0,0,1],\n",
    "#   [0,0,1,0],\n",
    "# ])\n",
    "# block_other_mat = torch.block_diag(*([quat_rot_mat]+[pos_rot_mat]*2))\n",
    "# rot_mat = torch.block_diag(*([pos_rot_mat]*4+[torch.eye(4)]+[block_other_mat]*2+[pos_rot_mat]*4))\n",
    "# print((obs*rot_mat)/obs)"
   ]
  },
  {
   "cell_type": "code",
   "execution_count": null,
   "metadata": {},
   "outputs": [],
   "source": [
    "robot_obs = torch.cat((grip_pos, hand_vel, finger_width))\n",
    "robot_reshape_mat = torch.tensor(\n",
    "  [\n",
    "    [1.,0,0]+[0]*11,\n",
    "    [0,1,0]+[0]*11,\n",
    "    [0,0,1]+[0]*11,\n",
    "    [0]*7+[1,0,0]+[0]*4,\n",
    "    [0]*7+[0,1,0]+[0]*4,\n",
    "    [0]*7+[0,0,1]+[0]*4,\n",
    "    [0]*3+[1,0,0]+[0]*8,\n",
    "    [0]*3+[0,1,0]+[0]*8,\n",
    "    [0]*3+[0,0,1]+[0]*8,\n",
    "    [0]*10+[1,0,0]+[0],\n",
    "    [0]*10+[0,1,0]+[0],\n",
    "    [0]*10+[0,0,1]+[0],\n",
    "    [0]*6+[1]+[0]*7,\n",
    "    [0]*13+[1],\n",
    "  ],\n",
    ")\n",
    "robot_obs@robot_reshape_mat"
   ]
  },
  {
   "cell_type": "code",
   "execution_count": null,
   "metadata": {},
   "outputs": [],
   "source": []
  },
  {
   "cell_type": "code",
   "execution_count": null,
   "metadata": {},
   "outputs": [],
   "source": [
    "# self attention\n",
    "import torch\n",
    "import torch.nn as nn\n",
    "num_goals = 3\n",
    "batch_size = 2\n",
    "num_heads = 1\n",
    "self_attn = nn.MultiheadAttention(4, num_heads)\n",
    "ten_in = torch.randn(num_goals,batch_size,4)\n",
    "mask = torch.tensor([[1,1,0], [1,0,0]]).bool()"
   ]
  },
  {
   "cell_type": "code",
   "execution_count": null,
   "metadata": {},
   "outputs": [],
   "source": [
    "token, weight = self_attn(ten_in[[0]], ten_in, ten_in, ~mask)\n",
    "token, weight"
   ]
  },
  {
   "cell_type": "code",
   "execution_count": null,
   "metadata": {},
   "outputs": [],
   "source": [
    "token[mask.transpose(0, 1) == 0] = 0.0\n",
    "token.sum(dim=0)/mask.sum(dim=1, keepdim=True)"
   ]
  },
  {
   "cell_type": "code",
   "execution_count": null,
   "metadata": {},
   "outputs": [],
   "source": []
  },
  {
   "cell_type": "markdown",
   "metadata": {},
   "source": [
    "# Wandb"
   ]
  },
  {
   "cell_type": "code",
   "execution_count": null,
   "metadata": {},
   "outputs": [],
   "source": [
    "import wandb\n",
    "import numpy as np\n",
    "api = wandb.Api()"
   ]
  },
  {
   "cell_type": "code",
   "execution_count": null,
   "metadata": {},
   "outputs": [],
   "source": [
    "old_run = api.run(\"jc-bao/corl-2022/l3r9yo7c\") #   3q5t0kdk 1ml3z0m7"
   ]
  },
  {
   "cell_type": "code",
   "execution_count": null,
   "metadata": {},
   "outputs": [],
   "source": [
    "old_run_2 = api.run(\"jc-bao/corl-main/27th4unw\") #   25dqffwv klpwf6u6"
   ]
  },
  {
   "cell_type": "code",
   "execution_count": null,
   "metadata": {},
   "outputs": [],
   "source": [
    "old_run_2 = api.run(\"jc-bao/corl-2022/19b0h9sh\") #     syq3rcs8 1takfy4s"
   ]
  },
  {
   "cell_type": "code",
   "execution_count": null,
   "metadata": {},
   "outputs": [],
   "source": [
    "wandb.init(project=\"corl-2022\", name=\"base-full\"); "
   ]
  },
  {
   "cell_type": "code",
   "execution_count": null,
   "metadata": {},
   "outputs": [],
   "source": [
    "import math\n",
    "for i, row in old_run.history().iterrows():\n",
    "  row = row.to_dict()\n",
    "  data = {}\n",
    "  for k, v in row.items():\n",
    "    if not math.isnan(v):\n",
    "      data[k] = v\n",
    "  if 'eval/final_rew' in data and 'curri/current_num_goals' in data:\n",
    "    rew = data['eval/final_rew']\n",
    "    num_goals = data['curri/current_num_goals']\n",
    "    data['plot/arranged_block_number'] = num_goals * (rew+1)\n",
    "  for key, value in row.items():\n",
    "    wandb.log(data, step=int(row['_step']))\n",
    "  if row['_step'] > 3e7:\n",
    "    break "
   ]
  },
  {
   "cell_type": "code",
   "execution_count": null,
   "metadata": {},
   "outputs": [],
   "source": [
    "last_step = int(row['_step']+1)"
   ]
  },
  {
   "cell_type": "code",
   "execution_count": null,
   "metadata": {},
   "outputs": [],
   "source": [
    "import math\n",
    "for i, row in old_run_2.history().iterrows():\n",
    "  row = row.to_dict()\n",
    "  data = {}\n",
    "  for k, v in row.items():\n",
    "    if not math.isnan(v):\n",
    "      data[k] = v\n",
    "  if 'eval/final_rew' in data and 'curri/current_num_goals' in data:\n",
    "    rew = data['eval/final_rew']\n",
    "    num_goals = data['curri/current_num_goals']\n",
    "    data['plot/arranged_block_number'] = num_goals * (rew+1)\n",
    "  for key, value in row.items():\n",
    "    wandb.log(data, step=int(row['_step']))\n",
    "  # if row['_step'] > 4.32e7:\n",
    "  #   break"
   ]
  },
  {
   "cell_type": "code",
   "execution_count": null,
   "metadata": {},
   "outputs": [],
   "source": [
    "wandb.finish();"
   ]
  },
  {
   "cell_type": "markdown",
   "metadata": {},
   "source": [
    "# Export to jit"
   ]
  },
  {
   "cell_type": "code",
   "execution_count": null,
   "metadata": {},
   "outputs": [],
   "source": [
    "import isaacgym\n",
    "import torch\n",
    "import wandb\n",
    "from net import ActorFixSAC\n",
    "\n",
    "cfg = torch.load('/home/pcy/rl/srl/outputs/2022-06-02/15-23-34/2ho_env.pkl', map_location='cuda:0')\n",
    "save_path = wandb.restore('latest_17.pth', 'jc-bao/corl-2022/23bfj0ac').name\n",
    "with open(save_path, 'rb') as f:\n",
    "  checkpoint = torch.load(f, map_location='cuda:0')\n",
    "act = ActorFixSAC(cfg)\n",
    "act.load_state_dict(checkpoint[\"actor\"], strict=False)\n",
    "scripted_policy = torch.jit.script(act)\n",
    "scripted_policy.save(\"scripted.pt\")"
   ]
  }
 ],
 "metadata": {
  "interpreter": {
   "hash": "f381b2ea382b32a8a0c4ea78237e5104aed4e6c5df67292954c05f7a8793897f"
  },
  "kernelspec": {
   "display_name": "Python 3.8.13 ('rlgpu')",
   "language": "python",
   "name": "python3"
  },
  "language_info": {
   "codemirror_mode": {
    "name": "ipython",
    "version": 3
   },
   "file_extension": ".py",
   "mimetype": "text/x-python",
   "name": "python",
   "nbconvert_exporter": "python",
   "pygments_lexer": "ipython3",
   "version": "3.8.13"
  },
  "orig_nbformat": 4
 },
 "nbformat": 4,
 "nbformat_minor": 2
}
